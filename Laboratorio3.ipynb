{
 "cells": [
  {
   "cell_type": "markdown",
   "metadata": {},
   "source": [
    "### Herbert Rafael Reyes Portillo\n",
    "### Carnet: 23002116\n",
    "\n",
    "# Laboratorio 3"
   ]
  },
  {
   "attachments": {},
   "cell_type": "markdown",
   "metadata": {},
   "source": [
    "### Parte 1: Numpy:\n",
    "\n",
    "Para los ejercicios siguiente genere el código que considere\n",
    "para resolver el problema que se le plantea.\n",
    "\n",
    "1. ¿Cuál es el tamaño en bytes de un array de 1000 elementos de tipo booleano?"
   ]
  },
  {
   "cell_type": "code",
   "execution_count": 2,
   "metadata": {},
   "outputs": [
    {
     "name": "stdout",
     "output_type": "stream",
     "text": [
      "El tamaño del array en bytes es: 1000\n"
     ]
    }
   ],
   "source": [
    "\n",
    "import numpy as np\n",
    "\n",
    "arreglo = np.zeros(1000, dtype=bool)\n",
    "size = arreglo.size * arreglo.itemsize\n",
    "print(\"El tamaño del array en bytes es:\", size)"
   ]
  },
  {
   "attachments": {},
   "cell_type": "markdown",
   "metadata": {},
   "source": [
    "2. Cree un array cuyos elementos sean los enteros pares en [1,100] y en orden decreciente. Muestre los 10 últimos por pantalla."
   ]
  },
  {
   "cell_type": "code",
   "execution_count": 3,
   "metadata": {},
   "outputs": [
    {
     "name": "stdout",
     "output_type": "stream",
     "text": [
      "[20 18 16 14 12 10  8  6  4  2]\n"
     ]
    }
   ],
   "source": [
    "arreglo = np.arange(100,0,-2)\n",
    "print(arreglo[-10:])"
   ]
  },
  {
   "attachments": {},
   "cell_type": "markdown",
   "metadata": {},
   "source": [
    "3) Dado el array\n",
    "\n",
    "2 4 5 6\n",
    "\n",
    "0 3 7 4\n",
    "\n",
    "8 8 5 2\n",
    "\n",
    "1 5 6 1\n",
    "\n",
    "Seleccione con una instrucción el subarray de elementos\n",
    "\n",
    "0 3 7 4\n",
    "\n",
    "Después, seleccione el subarray de elementos\n",
    "\n",
    "2 5\n",
    "\n",
    "8 5"
   ]
  },
  {
   "cell_type": "code",
   "execution_count": 23,
   "metadata": {},
   "outputs": [
    {
     "name": "stdout",
     "output_type": "stream",
     "text": [
      "[0 3 7 4]\n",
      "[[2 5]\n",
      " [8 5]]\n"
     ]
    }
   ],
   "source": [
    "matriz = np.array([[2, 4, 5, 6],\n",
    "                   [0, 3, 7, 4],\n",
    "                   [8, 8, 5, 2],\n",
    "                   [1, 5, 6, 1]])\n",
    "\n",
    "print(matriz[1,:])\n",
    "print(matriz[0::2,0::2])"
   ]
  },
  {
   "attachments": {},
   "cell_type": "markdown",
   "metadata": {},
   "source": [
    "4. Dados los arrays a = [1, 4, 2, 7] y b = [1, 3, 2, 9],\n",
    "obtenga la media aritmética de la diferencia (a-b)."
   ]
  },
  {
   "cell_type": "code",
   "execution_count": 28,
   "metadata": {},
   "outputs": [
    {
     "name": "stdout",
     "output_type": "stream",
     "text": [
      "-0.25\n"
     ]
    }
   ],
   "source": [
    "a = np.array([1, 4, 2, 7])\n",
    "b = np.array([1, 3, 2, 9])\n",
    "\n",
    "diferencia=a-b\n",
    "media = np.mean(diferencia)\n",
    "print(media)"
   ]
  },
  {
   "attachments": {},
   "cell_type": "markdown",
   "metadata": {},
   "source": [
    "5. Tengo valores de cordenadas (x, y) en las columnas del array\n",
    "1.33 4.5\n",
    "30.0 10.7\n",
    "70.2 0.5\n",
    "\n",
    "Agregue a este array las coordenadas (37.1, -3.6). Muestre en pantalla las dimensiones del nuevo array."
   ]
  },
  {
   "cell_type": "code",
   "execution_count": 33,
   "metadata": {},
   "outputs": [
    {
     "name": "stdout",
     "output_type": "stream",
     "text": [
      "Las nuevas dimensiones son: (4, 2)\n"
     ]
    }
   ],
   "source": [
    "array_cord = np.array([[1.33, 4.5],\n",
    "                   [30.0, 10.7],\n",
    "                   [70.2, 0.5]])\n",
    "\n",
    "array_cord = np.vstack([array_cord,np.array([37.1,-3.6])])\n",
    "\n",
    "print(f\"Las nuevas dimensiones son: {array_cord.shape}\")"
   ]
  },
  {
   "attachments": {},
   "cell_type": "markdown",
   "metadata": {},
   "source": [
    "6. Copie el array del ejercicio anterior. Traspóngalo (.Agregue ahora dos nuevos pares de coordenadas: (10.8,3.0) y (35.8, 12.0)."
   ]
  },
  {
   "cell_type": "code",
   "execution_count": 41,
   "metadata": {},
   "outputs": [
    {
     "name": "stdout",
     "output_type": "stream",
     "text": [
      "Las nuevas dimensiones son: (2, 6)\n"
     ]
    }
   ],
   "source": [
    "copy = np.copy(array_cord)\n",
    "copy_t= copy.T\n",
    "\n",
    "\n",
    "nuevas =     np.array([[10.8, 3.0],\n",
    "                       [35.8, 12.0]])\n",
    "\n",
    "copy_t = np.hstack([copy_t,nuevas])\n",
    "\n",
    "print(f\"Las nuevas dimensiones son: {copy_t.shape}\")"
   ]
  }
 ],
 "metadata": {
  "kernelspec": {
   "display_name": "maestria",
   "language": "python",
   "name": "python3"
  },
  "language_info": {
   "codemirror_mode": {
    "name": "ipython",
    "version": 3
   },
   "file_extension": ".py",
   "mimetype": "text/x-python",
   "name": "python",
   "nbconvert_exporter": "python",
   "pygments_lexer": "ipython3",
   "version": "3.7.16"
  },
  "orig_nbformat": 4
 },
 "nbformat": 4,
 "nbformat_minor": 2
}
