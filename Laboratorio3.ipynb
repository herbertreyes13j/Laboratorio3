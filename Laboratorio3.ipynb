{
 "cells": [
  {
   "cell_type": "markdown",
   "metadata": {},
   "source": [
    "### Herbert Rafael Reyes Portillo\n",
    "### Carnet: 23002116\n",
    "\n",
    "# Laboratorio 3"
   ]
  },
  {
   "attachments": {},
   "cell_type": "markdown",
   "metadata": {},
   "source": [
    "### Parte 1: Numpy:\n",
    "\n",
    "Para los ejercicios siguiente genere el código que considere\n",
    "para resolver el problema que se le plantea.\n",
    "\n",
    "1. ¿Cuál es el tamaño en bytes de un array de 1000 elementos de tipo booleano?"
   ]
  },
  {
   "cell_type": "code",
   "execution_count": 6,
   "metadata": {},
   "outputs": [
    {
     "name": "stdout",
     "output_type": "stream",
     "text": [
      "El tamaño del array en bytes es: 1000\n"
     ]
    }
   ],
   "source": [
    "import numpy as np\n",
    "\n",
    "arreglo = np.zeros(1000, dtype=bool)\n",
    "size = arreglo.size * arreglo.itemsize\n",
    "print(\"El tamaño del array en bytes es:\", size)"
   ]
  },
  {
   "attachments": {},
   "cell_type": "markdown",
   "metadata": {},
   "source": [
    "2. Cree un array cuyos elementos sean los enteros pares en [1,100] y en orden decreciente. Muestre los 10 últimos por pantalla."
   ]
  },
  {
   "cell_type": "code",
   "execution_count": 8,
   "metadata": {},
   "outputs": [
    {
     "name": "stdout",
     "output_type": "stream",
     "text": [
      "[20 18 16 14 12 10  8  6  4  2]\n"
     ]
    }
   ],
   "source": [
    "arreglo = np.arange(100,0,-2)\n",
    "print(arreglo[-10:])"
   ]
  }
 ],
 "metadata": {
  "kernelspec": {
   "display_name": "maestria",
   "language": "python",
   "name": "python3"
  },
  "language_info": {
   "codemirror_mode": {
    "name": "ipython",
    "version": 3
   },
   "file_extension": ".py",
   "mimetype": "text/x-python",
   "name": "python",
   "nbconvert_exporter": "python",
   "pygments_lexer": "ipython3",
   "version": "3.7.16"
  },
  "orig_nbformat": 4
 },
 "nbformat": 4,
 "nbformat_minor": 2
}
